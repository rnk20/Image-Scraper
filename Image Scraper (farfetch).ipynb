{
 "cells": [
  {
   "cell_type": "code",
   "execution_count": 2,
   "metadata": {},
   "outputs": [],
   "source": [
    "import urllib\n",
    "import urllib.request\n",
    "from bs4 import BeautifulSoup"
   ]
  },
  {
   "cell_type": "code",
   "execution_count": 3,
   "metadata": {},
   "outputs": [],
   "source": [
    "user_agent = 'Mozilla/5.0 (Windows; U; Windows NT 5.1; en-US; rv:1.9.0.7) Gecko/2009021910 Firefox/3.0.7'\n",
    "\n",
    "headers={'User-Agent':user_agent,} \n",
    "\n",
    "def make_soup(url):\n",
    "    request= urllib.request.Request(url, None,headers) #The assembled request\n",
    "    thepage = urllib.request.urlopen(request)\n",
    "    soupdata = BeautifulSoup(thepage, \"html.parser\")\n",
    "    return soupdata"
   ]
  },
  {
   "cell_type": "code",
   "execution_count": 11,
   "metadata": {},
   "outputs": [
    {
     "data": {
      "text/plain": [
       "50"
      ]
     },
     "execution_count": 11,
     "metadata": {},
     "output_type": "execute_result"
    }
   ],
   "source": [
    "urls = []\n",
    "site = 'https://www.farfetch.com/in/shopping/women/tops-1/items.aspx?page=2&view=90'\n",
    "soup = make_soup(site)\n",
    "it = 1\n",
    "for img in soup.findAll('img'):\n",
    "    temp = img.get('src')\n",
    "    #print(temp)\n",
    "    if temp is not None and \"255.jpg\" in temp:\n",
    "        urls.append(temp)\n",
    "        it+=1    \n",
    "            #print(temp)\n",
    "    if it > 50:\n",
    "        break\n",
    "#print('Page ', i, ' done')\n",
    "len(urls)"
   ]
  },
  {
   "cell_type": "code",
   "execution_count": 12,
   "metadata": {},
   "outputs": [],
   "source": [
    "for i in range(len(urls)):\n",
    "    filename = str(i+1) + '_Tops'\n",
    "    path = 'Far test/Jackets/' + filename\n",
    "    imagefile = open(path + \".jpeg\", 'wb')\n",
    "    imagefile.write(urllib.request.urlopen(urls[i]).read())\n",
    "    imagefile.close()"
   ]
  },
  {
   "cell_type": "markdown",
   "metadata": {},
   "source": [
    "# "
   ]
  }
 ],
 "metadata": {
  "kernelspec": {
   "display_name": "Python 3",
   "language": "python",
   "name": "python3"
  },
  "language_info": {
   "codemirror_mode": {
    "name": "ipython",
    "version": 3
   },
   "file_extension": ".py",
   "mimetype": "text/x-python",
   "name": "python",
   "nbconvert_exporter": "python",
   "pygments_lexer": "ipython3",
   "version": "3.6.5"
  }
 },
 "nbformat": 4,
 "nbformat_minor": 2
}
